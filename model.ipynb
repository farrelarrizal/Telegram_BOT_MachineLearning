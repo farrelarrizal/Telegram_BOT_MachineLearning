{
 "cells": [
  {
   "cell_type": "code",
   "execution_count": 1,
   "id": "2ee15e65",
   "metadata": {},
   "outputs": [],
   "source": [
    "import pandas as pd\n",
    "import glob\n"
   ]
  },
  {
   "cell_type": "code",
   "execution_count": null,
   "id": "026920b3",
   "metadata": {},
   "outputs": [],
   "source": []
  },
  {
   "cell_type": "code",
   "execution_count": 2,
   "id": "5dd3232f",
   "metadata": {},
   "outputs": [
    {
     "name": "stdout",
     "output_type": "stream",
     "text": [
      "['39077.png', '39445.png', '39942.png', '40081.png', '40376.png']\n",
      "      file_name syms boxes\n",
      "2943  70491.png   []    []\n"
     ]
    }
   ],
   "source": [
    "# train image path\n",
    "train_image_path = glob.glob('train-data/*.png')\n",
    "\n",
    "# remove train path\n",
    "train_image_path = [i.split(\"train-data\\\\\")[1] for i in train_image_path]\n",
    "print(train_image_path[:5])\n",
    "\n",
    "# train = pd.read_json('https://raw.githubusercontent.com/Deepwise-AILab/ChestX-Det10-Dataset/master/train.json')\n",
    "train = pd.read_json('train.json')\n",
    "print(train[train.file_name == '70491.png'])"
   ]
  },
  {
   "cell_type": "code",
   "execution_count": 4,
   "id": "6c205448",
   "metadata": {},
   "outputs": [
    {
     "data": {
      "text/plain": [
       "79"
      ]
     },
     "execution_count": 4,
     "metadata": {},
     "output_type": "execute_result"
    }
   ],
   "source": [
    "len(train_image_path)"
   ]
  },
  {
   "cell_type": "code",
   "execution_count": 5,
   "id": "b3253dc2",
   "metadata": {},
   "outputs": [],
   "source": [
    "train = train[train.file_name.isin(train_image_path)]"
   ]
  },
  {
   "cell_type": "code",
   "execution_count": 6,
   "id": "1c6f0037",
   "metadata": {},
   "outputs": [
    {
     "data": {
      "text/html": [
       "<div>\n",
       "<style scoped>\n",
       "    .dataframe tbody tr th:only-of-type {\n",
       "        vertical-align: middle;\n",
       "    }\n",
       "\n",
       "    .dataframe tbody tr th {\n",
       "        vertical-align: top;\n",
       "    }\n",
       "\n",
       "    .dataframe thead th {\n",
       "        text-align: right;\n",
       "    }\n",
       "</style>\n",
       "<table border=\"1\" class=\"dataframe\">\n",
       "  <thead>\n",
       "    <tr style=\"text-align: right;\">\n",
       "      <th></th>\n",
       "      <th>file_name</th>\n",
       "      <th>syms</th>\n",
       "      <th>boxes</th>\n",
       "    </tr>\n",
       "  </thead>\n",
       "  <tbody>\n",
       "    <tr>\n",
       "      <th>101</th>\n",
       "      <td>39077.png</td>\n",
       "      <td>[]</td>\n",
       "      <td>[]</td>\n",
       "    </tr>\n",
       "    <tr>\n",
       "      <th>149</th>\n",
       "      <td>39445.png</td>\n",
       "      <td>[Consolidation]</td>\n",
       "      <td>[[202, 450, 330, 637]]</td>\n",
       "    </tr>\n",
       "    <tr>\n",
       "      <th>241</th>\n",
       "      <td>39942.png</td>\n",
       "      <td>[Consolidation]</td>\n",
       "      <td>[[269, 71, 418, 375]]</td>\n",
       "    </tr>\n",
       "    <tr>\n",
       "      <th>319</th>\n",
       "      <td>40081.png</td>\n",
       "      <td>[Consolidation, Consolidation]</td>\n",
       "      <td>[[239, 392, 401, 697], [602, 627, 767, 728]]</td>\n",
       "    </tr>\n",
       "    <tr>\n",
       "      <th>346</th>\n",
       "      <td>40376.png</td>\n",
       "      <td>[Effusion, Consolidation, Fibrosis, Consolidat...</td>\n",
       "      <td>[[668, 439, 741, 558], [536, 199, 731, 501], [...</td>\n",
       "    </tr>\n",
       "    <tr>\n",
       "      <th>...</th>\n",
       "      <td>...</td>\n",
       "      <td>...</td>\n",
       "      <td>...</td>\n",
       "    </tr>\n",
       "    <tr>\n",
       "      <th>2943</th>\n",
       "      <td>70491.png</td>\n",
       "      <td>[]</td>\n",
       "      <td>[]</td>\n",
       "    </tr>\n",
       "    <tr>\n",
       "      <th>2951</th>\n",
       "      <td>70502.png</td>\n",
       "      <td>[Consolidation, Consolidation]</td>\n",
       "      <td>[[671, 596, 949, 754], [236, 509, 456, 696]]</td>\n",
       "    </tr>\n",
       "    <tr>\n",
       "      <th>2956</th>\n",
       "      <td>70507.png</td>\n",
       "      <td>[Consolidation, Effusion, Atelectasis]</td>\n",
       "      <td>[[564, 464, 874, 707], [858, 664, 915, 740], [...</td>\n",
       "    </tr>\n",
       "    <tr>\n",
       "      <th>2965</th>\n",
       "      <td>70896.png</td>\n",
       "      <td>[Nodule, Effusion]</td>\n",
       "      <td>[[653, 197, 697, 244], [101, 606, 348, 833]]</td>\n",
       "    </tr>\n",
       "    <tr>\n",
       "      <th>2995</th>\n",
       "      <td>70947.png</td>\n",
       "      <td>[Consolidation, Effusion, Consolidation, Effus...</td>\n",
       "      <td>[[580, 111, 878, 644], [580, 111, 878, 644], [...</td>\n",
       "    </tr>\n",
       "  </tbody>\n",
       "</table>\n",
       "<p>79 rows × 3 columns</p>\n",
       "</div>"
      ],
      "text/plain": [
       "      file_name                                               syms  \\\n",
       "101   39077.png                                                 []   \n",
       "149   39445.png                                    [Consolidation]   \n",
       "241   39942.png                                    [Consolidation]   \n",
       "319   40081.png                     [Consolidation, Consolidation]   \n",
       "346   40376.png  [Effusion, Consolidation, Fibrosis, Consolidat...   \n",
       "...         ...                                                ...   \n",
       "2943  70491.png                                                 []   \n",
       "2951  70502.png                     [Consolidation, Consolidation]   \n",
       "2956  70507.png             [Consolidation, Effusion, Atelectasis]   \n",
       "2965  70896.png                                 [Nodule, Effusion]   \n",
       "2995  70947.png  [Consolidation, Effusion, Consolidation, Effus...   \n",
       "\n",
       "                                                  boxes  \n",
       "101                                                  []  \n",
       "149                              [[202, 450, 330, 637]]  \n",
       "241                               [[269, 71, 418, 375]]  \n",
       "319        [[239, 392, 401, 697], [602, 627, 767, 728]]  \n",
       "346   [[668, 439, 741, 558], [536, 199, 731, 501], [...  \n",
       "...                                                 ...  \n",
       "2943                                                 []  \n",
       "2951       [[671, 596, 949, 754], [236, 509, 456, 696]]  \n",
       "2956  [[564, 464, 874, 707], [858, 664, 915, 740], [...  \n",
       "2965       [[653, 197, 697, 244], [101, 606, 348, 833]]  \n",
       "2995  [[580, 111, 878, 644], [580, 111, 878, 644], [...  \n",
       "\n",
       "[79 rows x 3 columns]"
      ]
     },
     "execution_count": 6,
     "metadata": {},
     "output_type": "execute_result"
    }
   ],
   "source": [
    "train"
   ]
  },
  {
   "cell_type": "code",
   "execution_count": null,
   "id": "8b63ff8c",
   "metadata": {},
   "outputs": [],
   "source": []
  }
 ],
 "metadata": {
  "kernelspec": {
   "display_name": "Python 3 (ipykernel)",
   "language": "python",
   "name": "python3"
  },
  "language_info": {
   "codemirror_mode": {
    "name": "ipython",
    "version": 3
   },
   "file_extension": ".py",
   "mimetype": "text/x-python",
   "name": "python",
   "nbconvert_exporter": "python",
   "pygments_lexer": "ipython3",
   "version": "3.9.7"
  }
 },
 "nbformat": 4,
 "nbformat_minor": 5
}
